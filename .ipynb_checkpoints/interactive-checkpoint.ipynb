{
 "cells": [
  {
   "cell_type": "code",
   "execution_count": 1,
   "metadata": {},
   "outputs": [],
   "source": [
    "import numpy as np\n",
    "import matplotlib.pyplot as plt\n"
   ]
  },
  {
   "cell_type": "code",
   "execution_count": null,
   "metadata": {},
   "outputs": [],
   "source": [
    "X = pd.read_csv('Linear_X_Train.csv').values\n",
    "Y = pd.read_csv('Linear_Y_Train.csv').values\n",
    "\n",
    "theta = np.load(\"ThetaList.npy\")\n",
    "\n",
    "T0 = theta[:,0]\n",
    "T1 = theta[:,1]\n",
    "\n",
    "plt.ion()\n",
    "\n",
    "for i  in range(0,50,3):\n",
    "    y_ = T1[i]*X + T0\n",
    "    \n",
    "    plt.scatter(X,Y)\n",
    "    plt.plot(X,y_,'red')\n",
    "    plt.draw()\n",
    "    plt.pause(1)\n",
    "    plt.clf()\n",
    "    \n",
    "    \n",
    "    "
   ]
  }
 ],
 "metadata": {
  "kernelspec": {
   "display_name": "Python 3",
   "language": "python",
   "name": "python3"
  },
  "language_info": {
   "codemirror_mode": {
    "name": "ipython",
    "version": 3
   },
   "file_extension": ".py",
   "mimetype": "text/x-python",
   "name": "python",
   "nbconvert_exporter": "python",
   "pygments_lexer": "ipython3",
   "version": "3.8.3"
  }
 },
 "nbformat": 4,
 "nbformat_minor": 4
}
